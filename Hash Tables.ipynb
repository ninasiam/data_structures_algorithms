{
 "cells": [
  {
   "cell_type": "markdown",
   "metadata": {
    "id": "sLowztpojyvp"
   },
   "source": [
    "# **Hash tables**\n",
    "\n",
    "*   Heavily used in CS\n",
    "*   They use a hash function\n",
    "\n",
    "The hash function\n",
    "*   It is irreversible!!! You can't unhash\n",
    "*   For the same input same output!\n",
    "*   Need really really fast hash functions\n",
    "*   SHA-256 is an example of a slow hash function\n",
    "\n",
    "Complexities\n",
    "*   Lookup/Access -> O(1)\n",
    "*   Delete        -> O(1)\n",
    "*   Insert        -> O(1)\n",
    "\n",
    "\n",
    "**Pros**\\\n",
    "All the above\n",
    "\n",
    "**Cons**\\\n",
    "Collisions\n",
    "*   Now Lookup may -> O(n)\n",
    "*   Now Instert may -> O(n)\n",
    "\n"
   ]
  },
  {
   "cell_type": "code",
   "execution_count": null,
   "metadata": {
    "colab": {
     "base_uri": "https://localhost:8080/"
    },
    "executionInfo": {
     "elapsed": 1048,
     "status": "ok",
     "timestamp": 1611877791620,
     "user": {
      "displayName": "Nina Siaminou",
      "photoUrl": "https://lh3.googleusercontent.com/a-/AOh14Gj7x8Gocehh_YCh2USb3VfUTKegt1rrSdAq5gcriQ=s64",
      "userId": "15637592335354585899"
     },
     "user_tz": -120
    },
    "id": "8rmclgwTijTA",
    "outputId": "6d078e6b-746c-49ff-f794-6b43c6a3f340"
   },
   "outputs": [
    {
     "name": "stdout",
     "output_type": "stream",
     "text": [
      "28\n",
      "Ahhhhhhhhhhhh\n",
      "None\n"
     ]
    },
    {
     "data": {
      "text/plain": [
       "[]"
      ]
     },
     "execution_count": 4,
     "metadata": {
      "tags": []
     },
     "output_type": "execute_result"
    }
   ],
   "source": [
    "user = {'age': 28,\n",
    "        'name': \"Name\",\n",
    "        'magic': True,\n",
    "        'scream': lambda: print(\"Ahhhhhhhhhhhh\") # function as a value\n",
    "        }\n",
    "\n",
    "print(user[\"age\"]) \n",
    "user[\"spell\"] = \"Abra cadabra\"\n",
    "print(user[\"scream\"]())                          # call the member function"
   ]
  },
  {
   "cell_type": "markdown",
   "metadata": {
    "id": "GTvZOWw-XV88"
   },
   "source": [
    "Create a hash table from scratch.\n",
    "This implementation of hash table takes the size as a parameter."
   ]
  },
  {
   "cell_type": "code",
   "execution_count": 4,
   "metadata": {
    "executionInfo": {
     "elapsed": 780,
     "status": "ok",
     "timestamp": 1612202080205,
     "user": {
      "displayName": "Nina Siaminou",
      "photoUrl": "https://lh3.googleusercontent.com/a-/AOh14Gj7x8Gocehh_YCh2USb3VfUTKegt1rrSdAq5gcriQ=s64",
      "userId": "15637592335354585899"
     },
     "user_tz": -120
    },
    "id": "tO64GesnXVQ6"
   },
   "outputs": [],
   "source": [
    "class my_hashTable(object):\n",
    "    \n",
    "    def __init__(self, size=0):\n",
    "        self.data = [None] * size                                                 # in order to insert staff\n",
    "        self.length = size\n",
    "\n",
    "    def __str__(self):                                                            # This method is used to print the attributes of the class object in a dictionary format\n",
    "        return str(self.__dict__)\n",
    "\n",
    "    def _hash(self, key):\n",
    "        hash = 0\n",
    "        for i in range(len(key)):\n",
    "            hash = (hash + ord(key[i]) * i) % self.length\n",
    "        return hash\n",
    "\n",
    "    def set(self, key, value):\n",
    "        hashed_key = self._hash(key)\n",
    "        if not self.data[hashed_key]:                                             # if there is nothing in this position\n",
    "            self.data[hashed_key] = [[key, value]]                                # for every hashed key address we have a list in case of collisions\n",
    "        else:                                                                     # there is already someting with this key\n",
    "            self.data[hashed_key].append([key, value])\n",
    "\n",
    "    def get(self, key):\n",
    "        hashed_key = self._hash(key)\n",
    "        if self.data[hashed_key]:                                                 # we found the key\n",
    "            for item in self.data[hashed_key]:                                    # on the list of items contained in the address of the hased key (remember collisions)\n",
    "                if item[0] == key:                                                # we retrieve the [0] where the keys are saved\n",
    "                    return item\n",
    "        return None\n",
    "\n",
    "    def keys():\n",
    "        keys_array = []\n",
    "        for i in range(self.length):\n",
    "            if self.data[i]:\n",
    "                for item in self.data[i]:                                         # on the list of items contained in the address of the hased key (remember collisions)\n",
    "                    keys_array.append(item[0])\n",
    "        return keys_array\n",
    "    "
   ]
  },
  {
   "cell_type": "code",
   "execution_count": 2,
   "metadata": {
    "colab": {
     "base_uri": "https://localhost:8080/"
    },
    "executionInfo": {
     "elapsed": 590,
     "status": "ok",
     "timestamp": 1612202082109,
     "user": {
      "displayName": "Nina Siaminou",
      "photoUrl": "https://lh3.googleusercontent.com/a-/AOh14Gj7x8Gocehh_YCh2USb3VfUTKegt1rrSdAq5gcriQ=s64",
      "userId": "15637592335354585899"
     },
     "user_tz": -120
    },
    "id": "1ElULw5IgjXv",
    "outputId": "1053dd50-c341-4c20-a359-428bbcd22c7e"
   },
   "outputs": [
    {
     "name": "stdout",
     "output_type": "stream",
     "text": [
      "{'data': [None, None, None, None, None, None, None, None, None, None], 'length': 10}\n",
      "{'data': [None, None, None, [['grapes', 10000]], None, [['oranges', 10]], None, [['lemons', 2]], None, [['apples', 100]]], 'length': 10}\n"
     ]
    }
   ],
   "source": [
    "my_hash = my_hashTable(size=10)\n",
    "print(my_hash)\n",
    "my_hash.set('grapes', 10000)\n",
    "my_hash.set('apples', 100)\n",
    "my_hash.set('oranges', 10)\n",
    "my_hash.set('lemons', 2)\n",
    "\n",
    "print(my_hash)"
   ]
  },
  {
   "cell_type": "markdown",
   "metadata": {
    "id": "SHm6dysNpmtJ"
   },
   "source": [
    "# Example 1"
   ]
  },
  {
   "cell_type": "markdown",
   "metadata": {
    "id": "gG59_-qZptEs"
   },
   "source": [
    "Given an array return the recurring element."
   ]
  },
  {
   "cell_type": "code",
   "execution_count": 6,
   "metadata": {
    "id": "Va-qoLMEpkkh"
   },
   "outputs": [],
   "source": [
    "class Solution_recurring_element:\n",
    "    # brute force using arrays O(n^2)\n",
    "\n",
    "    @staticmethod\n",
    "    def recurring_element(my_array):\n",
    "        \"\"\"Given an array, return the first recurring element, if there is no recurring element return None\n",
    "        arg:\n",
    "        my_array (list): my input array\n",
    "        returns:\n",
    "        the element or None\n",
    "        \"\"\"\n",
    "        # check the input if it is empty\n",
    "        if not my_array:\n",
    "            return None\n",
    "        l = len(my_array)\n",
    "        count = [0] * l\n",
    "        diff = [l+1] * l  # the difference list is used to store the distance between the recurring elements, we keep the smallest distance\n",
    "\n",
    "        for idx1 in range(l):\n",
    "            for idx2 in range(idx1+1, l):\n",
    "                if my_array[idx1] == my_array[idx2]:\n",
    "                    count[idx1] += 1\n",
    "                    if count[idx1] < 2:\n",
    "                        diff[idx1] = idx2 - idx1\n",
    "        #print(diff)\n",
    "        if min(diff) == l+1:\n",
    "            return None\n",
    "        else:\n",
    "            index = diff.index(min(diff))\n",
    "            return my_array[index]\n",
    "\n",
    "    # brute force using arrays O(n^2) again using while O(1)\n",
    "    @staticmethod\n",
    "    def recurring_element_2(my_array):\n",
    "        \"\"\"Given an array, return the first recurring element, if there is no recurring element return None\n",
    "        arg:\n",
    "        my_array (list): my input array\n",
    "        returns:\n",
    "        the element or None\n",
    "        \"\"\"\n",
    "        # check the input if it is empty\n",
    "        if not my_array:\n",
    "            return None\n",
    "        l = len(my_array)\n",
    "        idx1 = 0\n",
    "        found = None\n",
    "        while idx1 < l:\n",
    "            idx2 = idx1 + 1\n",
    "            while idx2 < l:\n",
    "                if my_array[idx1] == my_array[idx2]:\n",
    "                    l = idx2                              # to stop looking, now the l is the idx of the first recurring index, any search from that should iterate till l, (because we want the first recurrent item)\n",
    "                    found = my_array[idx2]\n",
    "                else:\n",
    "                    idx2 += 1\n",
    "            idx1 += 1\n",
    "        return found\n",
    "\n",
    "    # solution with dict O(n) but we increased the space complexity of O(n)\n",
    "    @staticmethod\n",
    "    def recurring_element_dict(my_array):\n",
    "        \"\"\"Given an array, return the first recurring element, if there is no recurring element return None\n",
    "        arg:\n",
    "        my_array (list): my input array\n",
    "        returns:\n",
    "        the element or None\n",
    "        \"\"\"\n",
    "        my_hash_map = {}\n",
    "        for idx, value in enumerate(my_array):\n",
    "            if value in my_hash_map.keys():\n",
    "                return value\n",
    "            my_hash_map[value] = 'Filled'\n",
    "        return None "
   ]
  },
  {
   "cell_type": "code",
   "execution_count": 7,
   "metadata": {
    "colab": {
     "base_uri": "https://localhost:8080/"
    },
    "executionInfo": {
     "elapsed": 1259,
     "status": "ok",
     "timestamp": 1611939695277,
     "user": {
      "displayName": "Nina Siaminou",
      "photoUrl": "https://lh3.googleusercontent.com/a-/AOh14Gj7x8Gocehh_YCh2USb3VfUTKegt1rrSdAq5gcriQ=s64",
      "userId": "15637592335354585899"
     },
     "user_tz": -120
    },
    "id": "IB9rqS1Bxxsr",
    "outputId": "61b1e0c8-bf95-443d-b5cd-f7c2d6a01f63"
   },
   "outputs": [
    {
     "name": "stdout",
     "output_type": "stream",
     "text": [
      "2\n",
      "1\n",
      "None\n",
      "6\n",
      "2\n",
      "4\n",
      "======\n",
      "2\n",
      "1\n",
      "None\n",
      "6\n",
      "2\n",
      "4\n",
      "======\n",
      "2\n",
      "1\n",
      "None\n",
      "6\n",
      "2\n",
      "4\n"
     ]
    }
   ],
   "source": [
    "my_array = [2, 5, 1, 2, 3, 5, 1, 2, 4] # 2\n",
    "result = Solution_recurring_element.recurring_element(my_array)\n",
    "print(result)\n",
    "\n",
    "my_array = [2, 1, 1, 2, 3, 5, 1, 2, 4] # 1\n",
    "result = Solution_recurring_element.recurring_element(my_array)\n",
    "print(result)\n",
    "\n",
    "my_array = [2, 1, 3, 5] # None\n",
    "result = Solution_recurring_element.recurring_element(my_array)\n",
    "print(result)\n",
    "\n",
    "my_array = [2, 6, 4, 6, 1, 3, 8, 1, 2] # 6\n",
    "result = Solution_recurring_element.recurring_element(my_array)\n",
    "print(result)\n",
    "\n",
    "my_array = [2, 2, 1, 2, 3, 5, 1, 2, 4] # 2\n",
    "result = Solution_recurring_element.recurring_element(my_array)\n",
    "print(result)\n",
    "\n",
    "my_array = [2, 8, 13, 4, 4] # 4\n",
    "result = Solution_recurring_element.recurring_element(my_array)\n",
    "print(result)\n",
    "\n",
    "print(\"======\")\n",
    "\n",
    "my_array = [2, 5, 1, 2, 3, 5, 1, 2, 4] # 2\n",
    "result = Solution_recurring_element.recurring_element_2(my_array)\n",
    "print(result)\n",
    "\n",
    "my_array = [2, 1, 1, 2, 3, 5, 1, 2, 4] # 1\n",
    "result = Solution_recurring_element.recurring_element_2(my_array)\n",
    "print(result)\n",
    "\n",
    "my_array = [2, 1, 3, 5] # None\n",
    "result = Solution_recurring_element.recurring_element_2(my_array)\n",
    "print(result)\n",
    "\n",
    "my_array = [2, 6, 4, 6, 1, 3, 8, 1, 2] # 6\n",
    "result = Solution_recurring_element.recurring_element_2(my_array)\n",
    "print(result)\n",
    "\n",
    "my_array = [2, 2, 1, 2, 3, 5, 1, 2, 4] # 2\n",
    "result = Solution_recurring_element.recurring_element_2(my_array)\n",
    "print(result)\n",
    "\n",
    "my_array = [2, 8, 13, 4, 4] # 4\n",
    "result = Solution_recurring_element.recurring_element_2(my_array)\n",
    "print(result)\n",
    "\n",
    "print(\"======\")\n",
    "my_array = [2, 5, 1, 2, 3, 5, 1, 2, 4] # 2\n",
    "result = Solution_recurring_element.recurring_element_dict(my_array)\n",
    "print(result)\n",
    "\n",
    "my_array = [2, 1, 1, 2, 3, 5, 1, 2, 4] # 1\n",
    "result = Solution_recurring_element.recurring_element_dict(my_array)\n",
    "print(result)\n",
    "\n",
    "my_array = [2, 1, 3, 5] # None\n",
    "result = Solution_recurring_element.recurring_element_dict(my_array)\n",
    "print(result)\n",
    "\n",
    "my_array = [2,6,4,6,1,3,8,1,2] # 6\n",
    "result = Solution_recurring_element.recurring_element_dict(my_array)\n",
    "print(result)\n",
    "\n",
    "my_array = [2, 2, 1, 2, 3, 5, 1, 2, 4] # 2\n",
    "result = Solution_recurring_element.recurring_element_dict(my_array)\n",
    "print(result)\n",
    "\n",
    "my_array = [2, 8, 13, 4, 4] # 4\n",
    "result = Solution_recurring_element.recurring_element_dict(my_array)\n",
    "print(result)\n"
   ]
  },
  {
   "cell_type": "markdown",
   "metadata": {
    "id": "fCDc0TA3i5Z4"
   },
   "source": [
    "# **Example 2**"
   ]
  },
  {
   "cell_type": "markdown",
   "metadata": {
    "id": "BfMp0YW9lxk0"
   },
   "source": [
    "Given one array, find a pair with a target sum"
   ]
  },
  {
   "cell_type": "code",
   "execution_count": 9,
   "metadata": {
    "id": "VS5ybLqGls9L"
   },
   "outputs": [],
   "source": [
    "class Solution_two_sum_indices:\n",
    "    @staticmethod\n",
    "    def two_sum(nums:list, target:int) -> list: # O(n)\n",
    "        \"\"\"\n",
    "        Args:\n",
    "        nums  : list of numbers\n",
    "        target: int, the target sum\n",
    "\n",
    "        Return:\n",
    "        list of indices of numbers which sum to target \n",
    "        \"\"\"\n",
    "        hash_map = {}\n",
    "        for idx, val in enumerate(nums):\n",
    "            value = target - val\n",
    "            if value in hash_map.keys():\n",
    "                return [idx, hash_map[value]]\n",
    "            hash_map[val] = idx\n",
    "      \n",
    "    @staticmethod\n",
    "    def has_pair_with_sum(array1: list, sum: int) -> bool: # O(n^2) naive approach\n",
    "        \"\"\"Given one array, find a pair with a target 2\n",
    "        args:\n",
    "        array1 (list): array\n",
    "        sum (list): second array\n",
    "        return:\n",
    "        result (bool): result\n",
    "        \"\"\"\n",
    "        for i in range(len(array1)):\n",
    "            for j in range(i + 1, len(array1)):\n",
    "                if array1[i] + array1[j] == sum:\n",
    "                    return True\n",
    "        return False\n",
    "\n",
    "    @staticmethod\n",
    "    def has_pair_with_sum2(array1: list, sum: int) -> bool: # Better it is an other implementation of the first snippet\n",
    "        \"\"\"Given one array, find a pair with a terget sum \n",
    "        args:\n",
    "        array1 (list): array\n",
    "        sum (list): second array\n",
    "        return:\n",
    "        result (bool): result\n",
    "        \"\"\"\n",
    "        # we will use sets\n",
    "        look_for_target_val = set()\n",
    "        for element in array1:\n",
    "            if element in look_for_target_val:\n",
    "                return True\n",
    "            look_for_target_val.add(sum - element)\n",
    "        return False  "
   ]
  },
  {
   "cell_type": "code",
   "execution_count": 11,
   "metadata": {
    "colab": {
     "base_uri": "https://localhost:8080/"
    },
    "executionInfo": {
     "elapsed": 903,
     "status": "ok",
     "timestamp": 1611948936579,
     "user": {
      "displayName": "Nina Siaminou",
      "photoUrl": "https://lh3.googleusercontent.com/a-/AOh14Gj7x8Gocehh_YCh2USb3VfUTKegt1rrSdAq5gcriQ=s64",
      "userId": "15637592335354585899"
     },
     "user_tz": -120
    },
    "id": "R7efgPMho7c1",
    "outputId": "acba370c-5a5f-4b06-c788-892565c3d9ab"
   },
   "outputs": [
    {
     "name": "stdout",
     "output_type": "stream",
     "text": [
      "[1, 0]\n",
      "True\n"
     ]
    }
   ],
   "source": [
    "list_of_indices = Solution_two_sum_indices.two_sum([3, 3, 5, 9], 6)\n",
    "print(list_of_indices) # the first item in the list is the second since in the round concerning the first summand the if stateement was not satisfied\n",
    "\n",
    "result = Solution_two_sum_indices.has_pair_with_sum2([1,2,3,5,5], 8)\n",
    "print(result)\n"
   ]
  },
  {
   "cell_type": "markdown",
   "metadata": {
    "id": "xuvj8FCNo0Cp"
   },
   "source": [
    "# Example 3"
   ]
  },
  {
   "cell_type": "markdown",
   "metadata": {
    "id": "EQTWV-Ybo1Tc"
   },
   "source": [
    "Given two arrays, decide TRUE/FALSE if they have common items"
   ]
  },
  {
   "cell_type": "code",
   "execution_count": 17,
   "metadata": {
    "id": "DgPV88vvl7hP"
   },
   "outputs": [],
   "source": [
    "class Solution_findCommonItems:\n",
    "    @staticmethod\n",
    "    def find_common_items(array1: list, array2: list) -> bool: # O(n^2) is something to avoid, brute force solution. Space complecity O(1). it depends though on the language\n",
    "        \"\"\"Given two arrays, decide TRUE/FALSE if they have common items\n",
    "        args:\n",
    "        array1 (list): first array\n",
    "        array2 (list): second array\n",
    "        return:\n",
    "        result (bool): result\n",
    "        \"\"\"\n",
    "        for element1 in array1:\n",
    "            for element2 in array2:\n",
    "                if element1 == element2:\n",
    "                    return True\n",
    "        return False\n",
    "\n",
    "    @staticmethod\n",
    "    def find_common_items2(array1: list, array2: list) -> bool: # O(n), if key in hash_map2.keys(): O(1) since the search in dict is constant, this solution has larger space complexit O(len(array2))\n",
    "        \"\"\"Given two arrays, decide TRUE/FALSE if they have common items\n",
    "        args:\n",
    "        array1 (list): first array\n",
    "        array2 (list): second array\n",
    "        return:\n",
    "        result (bool): result\n",
    "        \"\"\"\n",
    "        # hash_map1 = {element1:1 for element1 in array1}\n",
    "        hash_map2 = {element2:1 for element2 in array2}\n",
    "        # if the lens are unequal take the small one\n",
    "        for key in array1:\n",
    "            if key in hash_map2.keys():\n",
    "                return True\n",
    "        return False\n",
    "\n",
    "    @staticmethod\n",
    "    def find_common_items3(array1: list, array2: list) -> bool:\n",
    "        \"\"\"Given two arrays, decide TRUE/FALSE if they have common items\n",
    "        args:\n",
    "        array1 (list): first array\n",
    "        array2 (list): second array\n",
    "        return:\n",
    "        result (bool): result\n",
    "        \"\"\" \n",
    "        return len(set(array1).intersection(array2)) >= 1"
   ]
  },
  {
   "cell_type": "code",
   "execution_count": 18,
   "metadata": {
    "colab": {
     "base_uri": "https://localhost:8080/"
    },
    "executionInfo": {
     "elapsed": 1125,
     "status": "ok",
     "timestamp": 1611949082555,
     "user": {
      "displayName": "Nina Siaminou",
      "photoUrl": "https://lh3.googleusercontent.com/a-/AOh14Gj7x8Gocehh_YCh2USb3VfUTKegt1rrSdAq5gcriQ=s64",
      "userId": "15637592335354585899"
     },
     "user_tz": -120
    },
    "id": "a89B1j5XpiS1",
    "outputId": "337c17a1-078d-434a-ef02-6f13f55654e0"
   },
   "outputs": [
    {
     "name": "stdout",
     "output_type": "stream",
     "text": [
      "True\n",
      "True\n",
      "True\n",
      "True\n"
     ]
    }
   ],
   "source": [
    "array1 = ['a', 'a', 'c', 'd', 'e']\n",
    "array2 = ['z', 'c', 'i']\n",
    "\n",
    "result = Solution_findCommonItems.find_common_items2(array1, array2)\n",
    "print(result)\n",
    "\n",
    "array1 = ['a', 1, 'c', 'd', 'e']\n",
    "array2 = ['z', 1, 'i']\n",
    "\n",
    "result = Solution_findCommonItems.find_common_items2(array1, array2)\n",
    "print(result)\n",
    "\n",
    "array1 = ['a', '', 'c', 'd', 'e']\n",
    "array2 = ['z', 'c', 'i']\n",
    "\n",
    "result = Solution_findCommonItems.find_common_items2(array1, array2)\n",
    "print(result)\n",
    "\n",
    "result = Solution_findCommonItems.find_common_items3(array1, array2)\n",
    "print(result)\n"
   ]
  },
  {
   "cell_type": "code",
   "execution_count": null,
   "metadata": {},
   "outputs": [],
   "source": []
  }
 ],
 "metadata": {
  "colab": {
   "authorship_tag": "ABX9TyNMfb55TroUQ7vXHlfHdan7",
   "collapsed_sections": [],
   "name": "Hash Tables.ipynb",
   "provenance": []
  },
  "kernelspec": {
   "display_name": "Python 3",
   "language": "python",
   "name": "python3"
  },
  "language_info": {
   "codemirror_mode": {
    "name": "ipython",
    "version": 3
   },
   "file_extension": ".py",
   "mimetype": "text/x-python",
   "name": "python",
   "nbconvert_exporter": "python",
   "pygments_lexer": "ipython3",
   "version": "3.8.5"
  }
 },
 "nbformat": 4,
 "nbformat_minor": 1
}
