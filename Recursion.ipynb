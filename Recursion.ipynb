{
 "cells": [
  {
   "cell_type": "markdown",
   "metadata": {
    "id": "68EalDFPLJEi"
   },
   "source": [
    "# **Algorithms - Recursion**"
   ]
  },
  {
   "cell_type": "markdown",
   "metadata": {
    "id": "vpxufGRC67MT"
   },
   "source": [
    "Recursion is a technique: Recursion functions\n",
    "are good solutions when we need to solve tasks and their same subtask.\n",
    "\n",
    "*   A recursive function should have a terminating condition, to prevent stack overflow.\n",
    "*   The stack needs to pop sometime to return\n",
    "*   This condition is called the base case\n",
    "*   Two cases:\n",
    "               -> Keep going\n",
    "               -> Exit\n",
    "\n"
   ]
  },
  {
   "cell_type": "markdown",
   "metadata": {
    "id": "oer0KuRGtM8r"
   },
   "source": [
    "Recursion:\n",
    "\n",
    "Pros:\n",
    "\n",
    "*   Simpler code\n",
    "*   Readability\n",
    "\n",
    "Cons:\n",
    "\n",
    "*   Large stack call\n",
    "\n",
    "Use recursion when you don't know how deep the data structure is (e.g with trees).\n",
    "\n",
    "Use recursion:\n",
    "-> When a problem can be broken down to subproblems.\n",
    "-> Subproblems that perform the same computations.\n",
    "\n"
   ]
  },
  {
   "cell_type": "markdown",
   "metadata": {},
   "source": [
    "For example, using a global variable (not recommended)."
   ]
  },
  {
   "cell_type": "code",
   "execution_count": 7,
   "metadata": {
    "id": "GWmPltIq66iZ"
   },
   "outputs": [],
   "source": [
    "def inception():\n",
    "    global counter\n",
    "    global i\n",
    "    if counter > 3:\n",
    "        return 'done'\n",
    "    else:\n",
    "        counter += 1\n",
    "        inception()\n",
    "        i += 1\n",
    "        print(i)\n",
    "    return 'DONE', i"
   ]
  },
  {
   "cell_type": "code",
   "execution_count": 8,
   "metadata": {
    "colab": {
     "base_uri": "https://localhost:8080/"
    },
    "executionInfo": {
     "elapsed": 2665,
     "status": "ok",
     "timestamp": 1613563775820,
     "user": {
      "displayName": "Nina Siaminou",
      "photoUrl": "https://lh3.googleusercontent.com/a-/AOh14Gj7x8Gocehh_YCh2USb3VfUTKegt1rrSdAq5gcriQ=s64",
      "userId": "15637592335354585899"
     },
     "user_tz": -120
    },
    "id": "kDTrD4Ea_kIZ",
    "outputId": "c2e933c1-337e-4a70-d9d0-053482a6a8c9"
   },
   "outputs": [
    {
     "name": "stdout",
     "output_type": "stream",
     "text": [
      "1\n",
      "2\n",
      "3\n",
      "4\n"
     ]
    },
    {
     "data": {
      "text/plain": [
       "('DONE', 4)"
      ]
     },
     "execution_count": 8,
     "metadata": {},
     "output_type": "execute_result"
    }
   ],
   "source": [
    "counter = 0\n",
    "i = 0\n",
    "inception()"
   ]
  },
  {
   "cell_type": "markdown",
   "metadata": {
    "id": "bGIZYLMXKhH7"
   },
   "source": [
    "Factorial Function Both WAYS\n",
    "1.   Iteratively.\n",
    "2.   Recursively.\n",
    "\n",
    "n! = 1 * 2 * 3 * 4 * ... * n\n",
    "\n",
    "They have the same complexity! since the recursive function calls n times itself."
   ]
  },
  {
   "cell_type": "code",
   "execution_count": 10,
   "metadata": {
    "id": "93uLtp-RK4iL"
   },
   "outputs": [],
   "source": [
    "# Calculate factorial iteratively O(n)\n",
    "def findFactorialIteratively(n: int) -> int:\n",
    "    fact = 1\n",
    "    for i in range(1, n + 1):\n",
    "        fact *= i\n",
    "    return fact\n",
    "\n",
    "# calculate factorial recursively O(n)\n",
    "def findFactorialRecursively(n: int) -> int:\n",
    "    if (n == 1):\n",
    "        return 1\n",
    "    else:\n",
    "        return findFactorialRecursively(n-1) * n"
   ]
  },
  {
   "cell_type": "code",
   "execution_count": 13,
   "metadata": {
    "colab": {
     "base_uri": "https://localhost:8080/"
    },
    "executionInfo": {
     "elapsed": 2660,
     "status": "ok",
     "timestamp": 1613563775822,
     "user": {
      "displayName": "Nina Siaminou",
      "photoUrl": "https://lh3.googleusercontent.com/a-/AOh14Gj7x8Gocehh_YCh2USb3VfUTKegt1rrSdAq5gcriQ=s64",
      "userId": "15637592335354585899"
     },
     "user_tz": -120
    },
    "id": "AX9Vy4PjLbQk",
    "outputId": "a0b0ed41-0845-4d9b-95e4-b5e1cc1b8502"
   },
   "outputs": [
    {
     "name": "stdout",
     "output_type": "stream",
     "text": [
      "6\n",
      "24\n",
      "6\n",
      "24\n"
     ]
    }
   ],
   "source": [
    "# Using the recursive function\n",
    "print(findFactorialRecursively(3))\n",
    "print(findFactorialRecursively(4))\n",
    "# Using the iterative function\n",
    "print(findFactorialIteratively(3))\n",
    "print(findFactorialIteratively(4))"
   ]
  },
  {
   "cell_type": "code",
   "execution_count": 14,
   "metadata": {
    "id": "lYmB83Tl7BFo"
   },
   "outputs": [],
   "source": [
    "# fibonacci sequences\n",
    "def fibonacciRecursive(n: int) -> int: # O(2^n) this is an overkill\n",
    "    if n == 1:\n",
    "        return 1\n",
    "    elif n == 0:\n",
    "        return 0\n",
    "    else:\n",
    "        num = fibonacciRecursive(n-1) \n",
    "        num2 = fibonacciRecursive(n-2)\n",
    "        return num + num2\n",
    "\n",
    "def fibonacciIterative(n: int) -> int: # O(n)\n",
    "    n1 = 0                             # the first element of the sequence is 0\n",
    "    n2 = 1                             # the second elements of the sequence is 1\n",
    "    for i in range(n-1):               # [0 1 1 2 3 5 8 13 21 ...]\n",
    "        sum = n1 + n2\n",
    "        n1 = n2\n",
    "        n2 = sum \n",
    "    return sum"
   ]
  },
  {
   "cell_type": "code",
   "execution_count": 15,
   "metadata": {
    "colab": {
     "base_uri": "https://localhost:8080/"
    },
    "executionInfo": {
     "elapsed": 813,
     "status": "ok",
     "timestamp": 1613564246445,
     "user": {
      "displayName": "Nina Siaminou",
      "photoUrl": "https://lh3.googleusercontent.com/a-/AOh14Gj7x8Gocehh_YCh2USb3VfUTKegt1rrSdAq5gcriQ=s64",
      "userId": "15637592335354585899"
     },
     "user_tz": -120
    },
    "id": "jwE8DMU1-uKr",
    "outputId": "e7ce076e-b562-482e-c8b2-26acedbc726f"
   },
   "outputs": [
    {
     "name": "stdout",
     "output_type": "stream",
     "text": [
      "21\n",
      "21\n"
     ]
    }
   ],
   "source": [
    "print(fibonacciRecursive(8))\n",
    "print(fibonacciIterative(8))"
   ]
  },
  {
   "cell_type": "code",
   "execution_count": null,
   "metadata": {
    "id": "t7gYm7bzgf3K"
   },
   "outputs": [],
   "source": [
    "# Implement a function that reverses a string using recursion!\n",
    "def recursiveReverse(string: str) -> str:\n",
    "    if len(string) == 0:\n",
    "        return string\n",
    "    else:\n",
    "        return recursiveReverse(string[1:]) + string[0]"
   ]
  },
  {
   "cell_type": "code",
   "execution_count": null,
   "metadata": {
    "colab": {
     "base_uri": "https://localhost:8080/",
     "height": 35
    },
    "executionInfo": {
     "elapsed": 663,
     "status": "ok",
     "timestamp": 1613577854910,
     "user": {
      "displayName": "Nina Siaminou",
      "photoUrl": "https://lh3.googleusercontent.com/a-/AOh14Gj7x8Gocehh_YCh2USb3VfUTKegt1rrSdAq5gcriQ=s64",
      "userId": "15637592335354585899"
     },
     "user_tz": -120
    },
    "id": "YN-lqgH8gmLn",
    "outputId": "da5da2c4-3a4e-4ec4-cee4-538cb8f919fa"
   },
   "outputs": [
    {
     "data": {
      "application/vnd.google.colaboratory.intrinsic+json": {
       "type": "string"
      },
      "text/plain": [
       "'retsam oyoy'"
      ]
     },
     "execution_count": 85,
     "metadata": {
      "tags": []
     },
     "output_type": "execute_result"
    }
   ],
   "source": [
    "string = \"yoyo master\"\n",
    "length = len(string)\n",
    "counter = 0\n",
    "recursiveReverse(string)\n"
   ]
  },
  {
   "cell_type": "code",
   "execution_count": null,
   "metadata": {
    "id": "kzL_eFi97UPZ"
   },
   "outputs": [],
   "source": [
    "# compute recursivelly the values of the pascal triangle\n",
    "def pascal(col: int, row: int) -> int:\n",
    "    \"\"\" Given the row and the column of the pascal triangle \n",
    "      return the corresponding value\n",
    "      args:\n",
    "      col: the column\n",
    "      row: the row\n",
    "      returns:\n",
    "      value (int): the value that corresponds to (row, col)\n",
    "    \"\"\"\n",
    "    if col == 0:\n",
    "        return 1\n",
    "    elif row == col :\n",
    "        return 1\n",
    "    elif col and row:\n",
    "        return pascal(col - 1, row - 1) + pascal(col, row - 1)"
   ]
  },
  {
   "cell_type": "code",
   "execution_count": null,
   "metadata": {
    "colab": {
     "base_uri": "https://localhost:8080/"
    },
    "executionInfo": {
     "elapsed": 1099,
     "status": "ok",
     "timestamp": 1614272611902,
     "user": {
      "displayName": "Nina Siaminou",
      "photoUrl": "https://lh3.googleusercontent.com/a-/AOh14Gj7x8Gocehh_YCh2USb3VfUTKegt1rrSdAq5gcriQ=s64",
      "userId": "15637592335354585899"
     },
     "user_tz": -120
    },
    "id": "ZjS1LRccDg8a",
    "outputId": "351a8796-d85d-43b9-d40a-220475f84603"
   },
   "outputs": [
    {
     "data": {
      "text/plain": [
       "2"
      ]
     },
     "execution_count": 18,
     "metadata": {
      "tags": []
     },
     "output_type": "execute_result"
    }
   ],
   "source": [
    "pascal(1, 2)"
   ]
  },
  {
   "cell_type": "code",
   "execution_count": 19,
   "metadata": {
    "id": "CbdhFAtbLqwm"
   },
   "outputs": [],
   "source": [
    "# compute the balance parenthesis problem\n",
    "def balance(chars: str) -> bool:\n",
    "    \"\"\" Given a string, return true if the parenthesis\n",
    "      are balances or false if it is not\n",
    "      args:\n",
    "      chars (string): the string to check\n",
    "      returns:\n",
    "      flag (boolean): the boolean value\n",
    "    \"\"\"\n",
    "    def check_balance(chars: str, counter: int) -> int:\n",
    "        if len(chars) == 0:         \n",
    "            return counter\n",
    "        else:\n",
    "            if chars[0] == '(':                           # if we find (\n",
    "                counter += 1                              # we increment the counter \n",
    "            elif chars[0] == ')':                         # if we meet ) we decrease the counter\n",
    "                if counter < 0:                           # if the counter == 0 and we meet ), we exit the recursion\n",
    "                    return -1\n",
    "                counter -= 1\n",
    "        return check_balance(chars[1:], counter)\n",
    "\n",
    "    counter = 0\n",
    "    counter = check_balance(chars, counter)\n",
    "    if counter > 0 or counter < 0: \n",
    "        return False \n",
    "    else: \n",
    "        return True\n"
   ]
  },
  {
   "cell_type": "code",
   "execution_count": 21,
   "metadata": {
    "colab": {
     "base_uri": "https://localhost:8080/"
    },
    "executionInfo": {
     "elapsed": 658,
     "status": "ok",
     "timestamp": 1614286592759,
     "user": {
      "displayName": "Nina Siaminou",
      "photoUrl": "https://lh3.googleusercontent.com/a-/AOh14Gj7x8Gocehh_YCh2USb3VfUTKegt1rrSdAq5gcriQ=s64",
      "userId": "15637592335354585899"
     },
     "user_tz": -120
    },
    "id": "pV4m4QffRPIo",
    "outputId": "dc5035de-14ce-46c2-d80a-8f77c821aca6"
   },
   "outputs": [
    {
     "name": "stdout",
     "output_type": "stream",
     "text": [
      "True\n",
      "True\n",
      "True\n",
      "False\n",
      "False\n",
      "False\n",
      "False\n"
     ]
    }
   ],
   "source": [
    "# Well Balanced cases\n",
    "print(balance('(if (zero? x) max (/ 1 x))'))\n",
    "print(balance('I told him (that it’s not (yet) done). (But he wasn’t listening)'))\n",
    "print(balance('()()()'))\n",
    "\n",
    "# Unbalanced cases\n",
    "print(balance(':-)'))\n",
    "print(balance('((((('))\n",
    "print(balance('()(('))\n",
    "print(balance(')))))'))"
   ]
  },
  {
   "cell_type": "code",
   "execution_count": null,
   "metadata": {
    "id": "rwsUwMKQ43oZ"
   },
   "outputs": [],
   "source": [
    "# counting change problem https://www.youtube.com/watch?v=k4y5Pr0YVhg\n",
    "def count(coins: list, m: int, sum_without_m: int) -> int:\n",
    "    # sum to zero\n",
    "    if sum_without_m == 0:                                                        # here we remove to sum to zero, thus we hae a valid combination\n",
    "        return 1                                                                    \n",
    "    if sum_without_m < 0:                                                         # here we oversubstruct thus it is not a combination\n",
    "        return 0\n",
    "    if sum_without_m >= 1 and m <= 0:\n",
    "        return 0  \n",
    "    return count(coins, m, sum_without_m - coins[m-1]) + count(coins, m - 1, sum_without_m)"
   ]
  },
  {
   "cell_type": "code",
   "execution_count": null,
   "metadata": {
    "colab": {
     "base_uri": "https://localhost:8080/"
    },
    "executionInfo": {
     "elapsed": 645,
     "status": "ok",
     "timestamp": 1614727290777,
     "user": {
      "displayName": "Nina Siaminou",
      "photoUrl": "https://lh3.googleusercontent.com/a-/AOh14Gj7x8Gocehh_YCh2USb3VfUTKegt1rrSdAq5gcriQ=s64",
      "userId": "15637592335354585899"
     },
     "user_tz": -120
    },
    "id": "1dILm9UoM7A7",
    "outputId": "6907e7e0-90b0-4e19-bd63-34e0e9f8e94d"
   },
   "outputs": [
    {
     "data": {
      "text/plain": [
       "5"
      ]
     },
     "execution_count": 27,
     "metadata": {
      "tags": []
     },
     "output_type": "execute_result"
    }
   ],
   "source": [
    "arr = [1, 2, 3] \n",
    "m = len(arr) \n",
    "count(arr, m, 5)"
   ]
  },
  {
   "cell_type": "code",
   "execution_count": null,
   "metadata": {},
   "outputs": [],
   "source": []
  }
 ],
 "metadata": {
  "colab": {
   "authorship_tag": "ABX9TyMx5H2azYqGMLoqKXMaR8U7",
   "collapsed_sections": [],
   "name": "Recursion.ipynb",
   "provenance": []
  },
  "kernelspec": {
   "display_name": "Python 3",
   "language": "python",
   "name": "python3"
  },
  "language_info": {
   "codemirror_mode": {
    "name": "ipython",
    "version": 3
   },
   "file_extension": ".py",
   "mimetype": "text/x-python",
   "name": "python",
   "nbconvert_exporter": "python",
   "pygments_lexer": "ipython3",
   "version": "3.8.10"
  }
 },
 "nbformat": 4,
 "nbformat_minor": 1
}
