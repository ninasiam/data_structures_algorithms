{
 "cells": [
  {
   "cell_type": "markdown",
   "metadata": {
    "id": "HKbMJ0Teduzc"
   },
   "source": [
    "# **Arrays**\n",
    "*   In Python, we only have dynamic arrays (we use the list datatype). \n",
    "*   Array class is available too, but we will stick to list.\n",
    "*   They store in contiguous memory locations.\n",
    "*   Static arrays have predefined size, whereas in dynamic arrays the size can \n",
    "    change.\n",
    "\n",
    "Complexities\n",
    "*   Lookup/Access -> O(1)\n",
    "*   Pop/Push      -> O(1)^1\n",
    "*   Delete        -> O(n), cause it needs to re-index the remaining values\n",
    "*   Insert        -> O(n), cause it needs to re-index the values\n",
    "\n",
    "^1 If we deal with a dynamic array, if there is no available contiguous memory space, it will loop over the existing array, copy it, double the size and move it to an other location. \n",
    "\n",
    "\n",
    "**Pros**\n",
    "1.   Fast lookups\n",
    "2.   Fast pops/pushes\n",
    "\n",
    "**Cons**\n",
    "1.   Slow inserts\n",
    "2.   Slow deletes\n",
    "3.   Fixed Size (For static)\n",
    "\n",
    "\n",
    "\n",
    "\n",
    "\n",
    "\n",
    "\n"
   ]
  },
  {
   "cell_type": "code",
   "execution_count": 5,
   "metadata": {
    "colab": {
     "base_uri": "https://localhost:8080/"
    },
    "executionInfo": {
     "elapsed": 1129,
     "status": "ok",
     "timestamp": 1611492585928,
     "user": {
      "displayName": "Nina Siaminou",
      "photoUrl": "https://lh3.googleusercontent.com/a-/AOh14Gj7x8Gocehh_YCh2USb3VfUTKegt1rrSdAq5gcriQ=s64",
      "userId": "15637592335354585899"
     },
     "user_tz": -120
    },
    "id": "RYjxTH9QdbT2",
    "outputId": "5fdfab2d-f0d9-4f82-eaa4-d9e21d1bd6d3"
   },
   "outputs": [
    {
     "data": {
      "text/plain": [
       "['n', 'a', 'b', 'c', 'd']"
      ]
     },
     "execution_count": 5,
     "metadata": {},
     "output_type": "execute_result"
    }
   ],
   "source": [
    "# insert a new element in the beginning.\n",
    "array = ['a', 'b', 'c', 'd']\n",
    "array.insert(0, 'n')\n",
    "array"
   ]
  },
  {
   "cell_type": "markdown",
   "metadata": {
    "id": "nJfnUvYiQLte"
   },
   "source": [
    "Implementation of an array in Python"
   ]
  },
  {
   "cell_type": "code",
   "execution_count": 8,
   "metadata": {
    "id": "Y2f0SI4LQV28"
   },
   "outputs": [],
   "source": [
    "class my_array(object):\n",
    "    \"\"\"Class array\"\"\"\n",
    "    def __init__(self): \n",
    "        \"\"\" Constructor of the my_array object\n",
    "        attributes: \n",
    "        length (int): initilized to 0\n",
    "        data (dict): the data that the array holds (we use a dict to have O(1) in\n",
    "                 Accesses)\n",
    "        \"\"\"              \n",
    "        self.length = 0                   \n",
    "        self.data = {}                    \n",
    "\n",
    "\n",
    "    def __str__(self):\n",
    "        return str(self.__dict__)\n",
    "\n",
    "    def get(self, index):\n",
    "        \"\"\"Get the value of the array at the index position in O(1)\"\"\"\n",
    "        return self.data[index]\n",
    "\n",
    "    def push(self, item):\n",
    "        \"\"\"Append an item at the end of the array in O(1)\"\"\"\n",
    "        self.data[self.length] = item\n",
    "        self.length += 1\n",
    "\n",
    "    def pop(self):\n",
    "        \"\"\"Removes an item from the end of the array in O(1)\"\"\"\n",
    "        del self.data[self.length - 1]\n",
    "        self.length -= 1\n",
    "\n",
    "    def shiftItemsInsert(self, index, value):\n",
    "        \"\"\"Shifts the indices of the array (for insertion) in O(n)\"\"\"\n",
    "        self.length += 1                            # we expand the list\n",
    "        for i in range(self.length - 1, index, -1): # we move every item to the position on the right (starting from the last one)\n",
    "            self.data[i] = self.data[i - 1]\n",
    "        self.data[index] = value                    # since range not includes the last item we need to give value to the indexed item manually\n",
    "\n",
    "    def insert(self, index, value):\n",
    "        \"\"\"Insert an item on the array at position index in O(n)\"\"\"\n",
    "        self.shiftItemsInsert(index, value)\n",
    "        self.length += 1\n",
    "\n",
    "    def shiftItemsDelete(self, index):\n",
    "        \"\"\"Shifts the indices of the array (for deletion) in O(n)\"\"\"\n",
    "        for i in range(index, self.length - 1):\n",
    "            self.data[i] = self.data[i + 1]\n",
    "        del self.data[self.length - 1]              # since range not includes the last item we need to reindex the last item manually\n",
    "        self.length -= 1\n",
    "\n",
    "    def delete(self, index):\n",
    "        \"\"\"Delete the item of the array at position index in O(n)\"\"\"\n",
    "        item = self.data[index]\n",
    "        self.shiftItemsDelete(index)\n"
   ]
  },
  {
   "cell_type": "markdown",
   "metadata": {},
   "source": [
    "Create an array instance"
   ]
  },
  {
   "cell_type": "code",
   "execution_count": 10,
   "metadata": {
    "colab": {
     "base_uri": "https://localhost:8080/"
    },
    "executionInfo": {
     "elapsed": 2519,
     "status": "ok",
     "timestamp": 1611492587329,
     "user": {
      "displayName": "Nina Siaminou",
      "photoUrl": "https://lh3.googleusercontent.com/a-/AOh14Gj7x8Gocehh_YCh2USb3VfUTKegt1rrSdAq5gcriQ=s64",
      "userId": "15637592335354585899"
     },
     "user_tz": -120
    },
    "id": "_2YhcG2qRBJ_",
    "outputId": "284d6545-5ad5-4942-a4fe-ea02ae8a17a4"
   },
   "outputs": [
    {
     "name": "stdout",
     "output_type": "stream",
     "text": [
      "A \n",
      "brown \n",
      "{0: 'A ', 1: 'brown ', 2: 'fox ', 3: 'runs ', 4: 'up ', 5: 'the hill'}\n",
      "{0: 'brown ', 1: 'fox ', 2: 'runs ', 3: 'up ', 4: 'the hill'}\n",
      "{0: 'brown ', 1: 'small', 2: 'fox ', 3: 'runs ', 4: 'up ', 5: 'the hill'}\n"
     ]
    }
   ],
   "source": [
    "new_arr = my_array()\n",
    "new_arr.push('A ')\n",
    "new_arr.push('brown ')\n",
    "new_arr.push('fox ')\n",
    "new_arr.push('runs ')\n",
    "new_arr.push('up ')\n",
    "new_arr.push('the hill')\n",
    "\n",
    "print(new_arr.get(0))\n",
    "print(new_arr.get(1))\n",
    "\n",
    "print(new_arr.data)\n",
    "new_arr.delete(0)\n",
    "print(new_arr.data)\n",
    "\n",
    "new_arr.insert(1, 'small')\n",
    "print(new_arr.data)"
   ]
  },
  {
   "cell_type": "markdown",
   "metadata": {
    "id": "EHT3H_EVhGdO"
   },
   "source": [
    "*Note*: **In Interviews the strings are interpreted as arrays!**"
   ]
  },
  {
   "cell_type": "markdown",
   "metadata": {
    "id": "SLQo-gS_hiWU"
   },
   "source": [
    "# Example 1"
   ]
  },
  {
   "cell_type": "markdown",
   "metadata": {
    "id": "W_OE2R20hVOb"
   },
   "source": [
    "Create a function that reverses a string\n",
    "eg. 'Hi! my name is Nina'"
   ]
  },
  {
   "cell_type": "code",
   "execution_count": 13,
   "metadata": {
    "id": "DIee6XJXhg8b"
   },
   "outputs": [],
   "source": [
    "class Solutions_str:\n",
    "  # Brute force solution -> Time complexity: O(n), Memory Complexity O(n)\n",
    "    @staticmethod\n",
    "    def reverse_string(string1):\n",
    "        \"\"\" Reverses a string, note that a string is interpreted as a list here to reverse it\n",
    "            args:\n",
    "            string1 (string): the input string.\n",
    "            returns:\n",
    "            string_reversed (string): the string reversed.\n",
    "        \"\"\"\n",
    "        if len(string1) > 2:\n",
    "            string_reversed = []\n",
    "            for char in range(len(string1)-1, -1, -1):\n",
    "                string_reversed.append(string1[char])  \n",
    "            return ''.join(string_reversed)         # joins strings on the given delimiter\n",
    "        else:\n",
    "            print(\"The string is only one character, nothing to do!\")\n",
    "\n",
    "  # An implementation where we swap the elements (1, n), (2, n-2) .... (n/2 - 1, n/2 + 1) see \n",
    "  # https://medium.com/@tyastropheus/tricky-python-ii-parameter-passing-for-mutable-immutable-objects-10e968cbda35\n",
    "  # because this solution is a bit different from the given one\n",
    "    @staticmethod\n",
    "    def swap(string, a, b): \n",
    "        \"\"\" Swaps the elements in position a,b in a list\n",
    "            args:\n",
    "            string1 (list): the input list, a, b positions\n",
    "            returns:\n",
    "\n",
    "        \"\"\"\n",
    "        #print(id(string))\n",
    "        temp = string[a]\n",
    "        string[a] = string[b]\n",
    "        string[b] = temp\n",
    "\n",
    "    @staticmethod\n",
    "    def reverse_string_2(string):\n",
    "        \"\"\" Reverses a string, note that a string is interpreted as a list here to reverse it\n",
    "            args:\n",
    "            string1 (string): the input string\n",
    "            returns:\n",
    "            string_reversed (string): the string reversed\n",
    "        \"\"\"\n",
    "        string = list(string)  # bound string to a new obj list\n",
    "        if len(string) > 2:\n",
    "            for char in range(len(string) // 2):\n",
    "                Solutions_str.swap(string, char, len(string)-char - 1)     # string is now a list and changes in the function\n",
    "            return ''.join(string)\n"
   ]
  },
  {
   "cell_type": "markdown",
   "metadata": {},
   "source": [
    "Test solution for example 1."
   ]
  },
  {
   "cell_type": "code",
   "execution_count": 17,
   "metadata": {
    "colab": {
     "base_uri": "https://localhost:8080/"
    },
    "executionInfo": {
     "elapsed": 763,
     "status": "ok",
     "timestamp": 1611497372044,
     "user": {
      "displayName": "Nina Siaminou",
      "photoUrl": "https://lh3.googleusercontent.com/a-/AOh14Gj7x8Gocehh_YCh2USb3VfUTKegt1rrSdAq5gcriQ=s64",
      "userId": "15637592335354585899"
     },
     "user_tz": -120
    },
    "id": "crGQVZcMio5a",
    "outputId": "5b7ff7cc-1bba-41bf-ef33-5e3a413fd012"
   },
   "outputs": [
    {
     "name": "stdout",
     "output_type": "stream",
     "text": [
      "Hi! my name is Nina 140330133178128\n",
      "aniN si eman ym !iH 140330133138688\n",
      "Hi! my name is Nina 140330133177408\n",
      "140330133138688\n",
      "aniN si eman ym !iH 140330133138688\n"
     ]
    }
   ],
   "source": [
    "string1 = \"Hi! my name is Nina\"\n",
    "print(string1, id(string1))\n",
    "# new string (new object is bounded to string1)\n",
    "string1 = string1[::-1]\n",
    "print(string1, id(string1))\n",
    "# new string\n",
    "rev_str = Solutions_str.reverse_string(string1)\n",
    "print(rev_str, id(rev_str))\n",
    "# reverse in place\n",
    "print(id(string1))\n",
    "list(string1).reverse()\n",
    "print(string1, id(string1))"
   ]
  },
  {
   "cell_type": "markdown",
   "metadata": {
    "id": "ZlIZ0rCuvbUg"
   },
   "source": [
    "# Example 2"
   ]
  },
  {
   "cell_type": "markdown",
   "metadata": {
    "id": "-vtNiuShvjq-"
   },
   "source": [
    "Given two sorted arrays can you merge the two arrays in one sorted array"
   ]
  },
  {
   "cell_type": "code",
   "execution_count": 19,
   "metadata": {
    "id": "R7_KA7M7w3zy"
   },
   "outputs": [],
   "source": [
    "class Solutions_merge:\n",
    "    @staticmethod\n",
    "    def merge_sorted_arrays2(array1, array2):\n",
    "        \"\"\" Merge two sorted arrays in one sorted array\n",
    "        args:\n",
    "        array1 (list): the first sorted array\n",
    "        array2 (list): the second sorted array\n",
    "        returns:\n",
    "        sorted_merged (list): the mergd sorted array\n",
    "        \"\"\"\n",
    "        # first elements of both arrays to start the process\n",
    "        array1Item = array1[0]\n",
    "        array2Item = array2[0]\n",
    "        sorted_merged = []\n",
    "        i_1 = 0\n",
    "        i_2 = 0\n",
    "\n",
    "        # We check which first element is larger\n",
    "        # since the arrays are sorted, we push the smaller one in the new list\n",
    "        # in the sequel, on the list we the smaller value, we move to the next position\n",
    "        while i_1 <= len(array1)-1 and i_2 <= len(array2)-1:  # we check until one list reaches its end included the last element\n",
    "            if array1[i_1] < array2[i_2]:\n",
    "                sorted_merged.append(array1[i_1])\n",
    "                i_1 += 1\n",
    "            else:\n",
    "                sorted_merged.append(array2[i_2]) # when we have tie, the item of the second list is pushed \n",
    "                i_2 += 1\n",
    "            flag_1 = i_1 == len(array1) # the loop has finised and the index is incremented beyond the available indices (last index + 1)\n",
    "            flag_2 = i_2 == len(array2) # << >>\n",
    "        # merge the remaining list to the sorted one\n",
    "        if flag_1:\n",
    "            sorted_merged += array2[i_2:] \n",
    "        elif flag_2:\n",
    "            sorted_merged += array1[i_1:]\n",
    "        return sorted_merged"
   ]
  },
  {
   "cell_type": "code",
   "execution_count": 21,
   "metadata": {
    "colab": {
     "base_uri": "https://localhost:8080/"
    },
    "executionInfo": {
     "elapsed": 829,
     "status": "ok",
     "timestamp": 1611505598999,
     "user": {
      "displayName": "Nina Siaminou",
      "photoUrl": "https://lh3.googleusercontent.com/a-/AOh14Gj7x8Gocehh_YCh2USb3VfUTKegt1rrSdAq5gcriQ=s64",
      "userId": "15637592335354585899"
     },
     "user_tz": -120
    },
    "id": "AIAKQip8vu9q",
    "outputId": "3dec0a1c-de1f-40ed-a4f1-5936531e1968"
   },
   "outputs": [
    {
     "name": "stdout",
     "output_type": "stream",
     "text": [
      "[1, 1, 3, 4, 5, 6, 7, 8, 10, 12, 40]\n"
     ]
    }
   ],
   "source": [
    "# Using the built-in\n",
    "list1 = [1, 3, 5, 7, 40]\n",
    "list2 = [1, 4, 6, 8, 10, 12]\n",
    "list_merged = Solutions_merge.merge_sorted_arrays2(list1, list2)\n",
    "print(list_merged)\n"
   ]
  },
  {
   "cell_type": "markdown",
   "metadata": {
    "id": "VlsuQmD7OIJ3"
   },
   "source": [
    "# Example 3"
   ]
  },
  {
   "cell_type": "markdown",
   "metadata": {
    "id": "EZajUiKzOKGX"
   },
   "source": [
    "Given an integer array numbers, find the contiguous sub-array (containing at least one number) which has the largest sum and return it.\n"
   ]
  },
  {
   "cell_type": "code",
   "execution_count": 26,
   "metadata": {
    "executionInfo": {
     "elapsed": 707,
     "status": "ok",
     "timestamp": 1611862196181,
     "user": {
      "displayName": "Nina Siaminou",
      "photoUrl": "https://lh3.googleusercontent.com/a-/AOh14Gj7x8Gocehh_YCh2USb3VfUTKegt1rrSdAq5gcriQ=s64",
      "userId": "15637592335354585899"
     },
     "user_tz": -120
    },
    "id": "1UrnRICPODkb"
   },
   "outputs": [],
   "source": [
    "class Solutions_sum_subarray:\n",
    "    # sum all the elements on the list and remove from the edges. In this implementation we consider as a subarray the array itself\n",
    "    @staticmethod\n",
    "    def max_sum_sub_array(array1):\n",
    "        \"\"\" Given an integer array nums, find the contiguous subarray (containing at least one number)\n",
    "            which has the largest sum and return its sum\n",
    "            args:\n",
    "            array1 (list): array with elements \n",
    "            returns:\n",
    "            max_sub_array (list): subarray with elements with the maximum sum\n",
    "        \"\"\"\n",
    "        init_sum = sum(array1)\n",
    "        start = 0\n",
    "        end = len(array1) - 1\n",
    "        sums = []\n",
    "        sums.append(init_sum)\n",
    "        if len(array1) == 1:\n",
    "            return init_sum\n",
    "        while start != end :\n",
    "            if end - start == 1:\n",
    "                return max(sums[1:])\n",
    "            sum_from_start = init_sum - array1[end] \n",
    "            sum_from_end = init_sum - array1[start] \n",
    "            if sum_from_start >= sum_from_end:\n",
    "                end -= 1\n",
    "                init_sum = sum_from_start\n",
    "                sums.append(init_sum)\n",
    "            else:\n",
    "                start += 1\n",
    "                init_sum = sum_from_end\n",
    "                sums.append(init_sum)\n",
    "        return max(sums[1:])\n",
    "\n",
    "    # Or kadane algorithm\n",
    "    @staticmethod\n",
    "    def kadane(array1):\n",
    "        \"\"\" Given an integer array nums, find the contiguous subarray (containing at least one number)\n",
    "            which has the largest sum and return its sum\n",
    "            args:\n",
    "            array1 (list): array with elements \n",
    "            returns:\n",
    "            max_sub_array (int): best sum\n",
    "        \"\"\"\n",
    "        best_sum = 0\n",
    "        current_sum = 0\n",
    "        for n in range(len(array1)):\n",
    "            current_sum = max(current_sum, current_sum + n)\n",
    "            best_sum = max(best_sum, current_sum)\n",
    "        return best_sum\n"
   ]
  },
  {
   "cell_type": "code",
   "execution_count": 27,
   "metadata": {
    "colab": {
     "base_uri": "https://localhost:8080/"
    },
    "executionInfo": {
     "elapsed": 1028,
     "status": "ok",
     "timestamp": 1611861230223,
     "user": {
      "displayName": "Nina Siaminou",
      "photoUrl": "https://lh3.googleusercontent.com/a-/AOh14Gj7x8Gocehh_YCh2USb3VfUTKegt1rrSdAq5gcriQ=s64",
      "userId": "15637592335354585899"
     },
     "user_tz": -120
    },
    "id": "A4ThJvC_TEGD",
    "outputId": "a484799e-d672-45dc-fa53-e01813a3c137"
   },
   "outputs": [
    {
     "name": "stdout",
     "output_type": "stream",
     "text": [
      "6\n",
      "3\n",
      "4\n"
     ]
    }
   ],
   "source": [
    "my_array = [-2,1,-3,4,-1,2,1,-5,4]\n",
    "max_sum = Solutions_sum_subarray.max_sum_sub_array(my_array)\n",
    "print(max_sum)\n",
    "\n",
    "my_array = [4,-1,2]\n",
    "max_sum = Solutions_sum_subarray.max_sum_sub_array(my_array)\n",
    "print(max_sum)\n",
    "\n",
    "my_array = [4]\n",
    "max_sum = Solutions_sum_subarray.max_sum_sub_array(my_array)\n",
    "print(max_sum)"
   ]
  },
  {
   "cell_type": "markdown",
   "metadata": {
    "id": "Id89YD2uwGX4"
   },
   "source": [
    "# Example 4"
   ]
  },
  {
   "cell_type": "markdown",
   "metadata": {
    "id": "q2HrXja3wOOy"
   },
   "source": [
    "Given an array nums, write a function to move all 0's to the end of it while maintaining the relative order of the non-zero elements."
   ]
  },
  {
   "cell_type": "code",
   "execution_count": 32,
   "metadata": {
    "executionInfo": {
     "elapsed": 818,
     "status": "ok",
     "timestamp": 1611862795785,
     "user": {
      "displayName": "Nina Siaminou",
      "photoUrl": "https://lh3.googleusercontent.com/a-/AOh14Gj7x8Gocehh_YCh2USb3VfUTKegt1rrSdAq5gcriQ=s64",
      "userId": "15637592335354585899"
     },
     "user_tz": -120
    },
    "id": "-MyVbYvnwTVp"
   },
   "outputs": [],
   "source": [
    "class Solution_arr_move_zeros:\n",
    "    @staticmethod\n",
    "    def move_zeros(array1):\n",
    "        \"\"\" Given an array nums, write a function to move all 0's to the end of it\n",
    "            while maintaining the relative order of the non-zero elements.\n",
    "            args:\n",
    "            array1 (list): array with elements \n",
    "            returns:\n",
    "            None\n",
    "        \"\"\"\n",
    "        # A bit naive since it demands O(n^2) computations\n",
    "\n",
    "        #delete the zero when you find one and add them at the end \n",
    "        for idx in range(len(array1)): # O(n)\n",
    "          # if the current and the next one are 0\n",
    "            zeros = 0 \n",
    "            if array1[idx] == 0:\n",
    "                #count the zeros\n",
    "                zeros += 1\n",
    "                array1.append(0)\n",
    "\n",
    "\n",
    "        idx = 0\n",
    "        true_iterator = 0\n",
    "        while true_iterator < (len(array1) - zeros): # iterates on the true length\n",
    "            if array1[idx] == 0:\n",
    "                del array1[idx] # detetes an element an it shifts so we do not need to increment the true_iterator\n",
    "                true_iterator += 1\n",
    "            else:\n",
    "                idx += 1        # it increments when we do not find a nonzero\n",
    "                true_iterator += 1\n",
    "\n",
    "    @staticmethod\n",
    "    def swap_move(array):\n",
    "        swaps = 0\n",
    "        for i in range(len(array)):\n",
    "            if array[i] != 0:\n",
    "                array[i], array[swaps] = array[swaps], array[i] # swaps the nonzeros it finds in the position indexed by swap\n",
    "                swaps += 1\n",
    "        return array"
   ]
  },
  {
   "cell_type": "code",
   "execution_count": 33,
   "metadata": {
    "colab": {
     "base_uri": "https://localhost:8080/"
    },
    "executionInfo": {
     "elapsed": 705,
     "status": "ok",
     "timestamp": 1611862820364,
     "user": {
      "displayName": "Nina Siaminou",
      "photoUrl": "https://lh3.googleusercontent.com/a-/AOh14Gj7x8Gocehh_YCh2USb3VfUTKegt1rrSdAq5gcriQ=s64",
      "userId": "15637592335354585899"
     },
     "user_tz": -120
    },
    "id": "h9Oo1I_c2g76",
    "outputId": "40eb0cf3-6675-40f3-80a2-a967759ffc9b"
   },
   "outputs": [
    {
     "name": "stdout",
     "output_type": "stream",
     "text": [
      "[1, 3, 12, 9, 7, 0, 0, 0, 0, 0, 0, 0, 0]\n",
      "=======\n",
      "[1, 3, 12, 9, 7, 0, 0, 0, 0, 0, 0, 0, 0]\n"
     ]
    }
   ],
   "source": [
    "list_zeros2 = [0,0,0,0,1,0,3,0,0,0,12,9,7]\n",
    "Solution_arr_move_zeros.move_zeros(list_zeros2)\n",
    "print(list_zeros2)\n",
    "\n",
    "print(\"=======\")\n",
    "list_zeros2 = [0,0,0,0,1,0,3,0,0,0,12,9,7]\n",
    "Solution_arr_move_zeros.swap_move(list_zeros2)\n",
    "print(list_zeros2)\n"
   ]
  },
  {
   "cell_type": "markdown",
   "metadata": {
    "id": "MP4NRPYgb0fC"
   },
   "source": [
    "# Example 5"
   ]
  },
  {
   "cell_type": "markdown",
   "metadata": {
    "id": "ENVvu7RDbxvZ"
   },
   "source": [
    "Given an array of integers, find if the array contains any duplicates.\n",
    "\n",
    "Your function should return true if any value appears at least twice in the array, and it should return false if every element is distinct."
   ]
  },
  {
   "cell_type": "code",
   "execution_count": 34,
   "metadata": {
    "id": "-fvY0zvZb3_M"
   },
   "outputs": [],
   "source": [
    "class Solution_arr_move_contains_dups:\n",
    "    #brute force implementation\n",
    "    @staticmethod\n",
    "    def containsDuplicate(array):\n",
    "        \"\"\" Given an array of integers, find if the array contains any duplicates.\n",
    "            args:\n",
    "            array1 (list): array with elements \n",
    "            returns:\n",
    "            result (boolean): TRUE/FALSE \n",
    "        \"\"\"\n",
    "        length_array = len(array)\n",
    "        for i in range(length_array):  # O(n^2)\n",
    "            for j in range(i+1, length_array):\n",
    "                if array[i] == array[j]:\n",
    "                    return True\n",
    "        return False\n",
    "\n",
    "    # an other implementation should be with hash maps\n",
    "    def containsDuplicate_hash(array):\n",
    "        \"\"\" Given an array of integers, find if the array contains any duplicates.\n",
    "            args:\n",
    "            array1 (list): array with elements \n",
    "            returns:\n",
    "            result (boolean): TRUE/FALSE \n",
    "        \"\"\"\n",
    "        if len(array) < 2:\n",
    "            return False\n",
    "        else:\n",
    "            h_map = {None: None} # initialize the hash_map in order h_map.keys() has meaning\n",
    "            for key, val in enumerate(array): # O(n)\n",
    "                if val in h_map.keys(): # when it finds a key that already exists, it returns\n",
    "                    return True\n",
    "                h_map[val] = 1          # create a hash map that has keys the values\n",
    "            return False\n",
    "\n",
    "    # the most evil solution\n",
    "    def containsDuplicate_sort(array):\n",
    "        \"\"\" Given an array of integers, find if the array contains any duplicates.\n",
    "            args:\n",
    "            array1 (list): array with elements \n",
    "            returns:\n",
    "            result (boolean): TRUE/FALSE \n",
    "        \"\"\"\n",
    "\n",
    "        array.sort() # O(n log n)\n",
    "        for i in range(len(array)-1):\n",
    "            if array[i] == array[i + 1]:\n",
    "                return True\n",
    "        return False"
   ]
  },
  {
   "cell_type": "code",
   "execution_count": 35,
   "metadata": {
    "colab": {
     "base_uri": "https://localhost:8080/"
    },
    "executionInfo": {
     "elapsed": 812,
     "status": "ok",
     "timestamp": 1611613257706,
     "user": {
      "displayName": "Nina Siaminou",
      "photoUrl": "https://lh3.googleusercontent.com/a-/AOh14Gj7x8Gocehh_YCh2USb3VfUTKegt1rrSdAq5gcriQ=s64",
      "userId": "15637592335354585899"
     },
     "user_tz": -120
    },
    "id": "6KPhSl2QeXfd",
    "outputId": "4f20ac57-235c-43f4-f81d-173a79f51ee3"
   },
   "outputs": [
    {
     "name": "stdout",
     "output_type": "stream",
     "text": [
      "False\n",
      "False\n",
      "False\n"
     ]
    }
   ],
   "source": [
    "my_list = [1,2,3,4,5,6,7,8,9,19,20]\n",
    "result = Solution_arr_move_contains_dups.containsDuplicate(my_list)\n",
    "print(result)\n",
    "\n",
    "my_list = [1,2,3,4,5,6,7,8,9,19,20]\n",
    "result = Solution_arr_move_contains_dups.containsDuplicate_hash(my_list)\n",
    "print(result)\n",
    "\n",
    "my_list = [1,2,3,4,5,6,7,8,9,19,20]\n",
    "result = Solution_arr_move_contains_dups.containsDuplicate_sort(my_list)\n",
    "print(result)"
   ]
  },
  {
   "cell_type": "markdown",
   "metadata": {
    "id": "QakSnNJownYK"
   },
   "source": [
    "# Example 6"
   ]
  },
  {
   "cell_type": "markdown",
   "metadata": {
    "id": "3bw4YsDlwqMg"
   },
   "source": [
    "Given an array, rotate the array to the right by k steps, where k is non-negative."
   ]
  },
  {
   "cell_type": "code",
   "execution_count": 36,
   "metadata": {
    "id": "FEv_qhZ9wsrP"
   },
   "outputs": [],
   "source": [
    "class Solution_rotate:\n",
    "    # first we need to thing aboout k\n",
    "    # k can take values for 0 < k < 100000\n",
    "    # we need to bring k to the range of 0,len(list) to have meaning\n",
    "    # thus k % len(list) to keep k to the right range\n",
    "    # this way it suffices to create a help list (or to double the size of our\n",
    "    # list), in order to shift our values, when the index we shift reaches the end \n",
    "    def rotate(nums, k) -> None:\n",
    "        \"\"\"\n",
    "        Rotate the array to the right by k steps, where k is non-negative\n",
    "        args:\n",
    "        nums (list): input list\n",
    "        k (int): the shifitng parameter\n",
    "        returns:\n",
    "        None\n",
    "        \"\"\"\n",
    "        # the constraints imposed for K\n",
    "        len_list = len(nums)\n",
    "        if k == 0 or k == len_list or k < 0 or k > 100000:\n",
    "            return None\n",
    "        # if k is to big, modulo to bring it to the right range\n",
    "        if len_list < k < 100000 :\n",
    "            k = k % len_list\n",
    "\n",
    "        # the overflow is k: k elements will be pushed out of the list\n",
    "        # we save these elements in a temp list\n",
    "        temp_list = nums[(len_list - k):]\n",
    "        idx = len_list - 1\n",
    "        while idx > -1 :\n",
    "            nums[idx] = nums[idx - k]\n",
    "            idx -= 1\n",
    "        nums[:k] = temp_list\n",
    "\n",
    "    def rotate_2(nums, k) -> None:\n",
    "        \"\"\"\n",
    "        Rotate the array to the right by k steps, where k is non-negative\n",
    "        args:\n",
    "        nums (list): input list\n",
    "        k (int): the shifitng parameter\n",
    "        returns:\n",
    "        None\n",
    "        \"\"\"\n",
    "        # the constraints imposed for K\n",
    "        len_list = len(nums)\n",
    "        if k == 0 or k == len_list or k < 0 or k > 100000:\n",
    "            return None\n",
    "        # if k is to big, modulo to bring it to the right range\n",
    "        if len_list < k < 100000 :\n",
    "            k = k % len_list\n",
    "\n",
    "        temp_list = [0] * len_list\n",
    "        idx = 0\n",
    "        while idx < len_list:\n",
    "            idx_tmp = (idx + k) % len_list\n",
    "            temp_list[idx_tmp] = nums[idx] \n",
    "            idx += 1\n",
    "        nums[:] = temp_list\n",
    "\n",
    "    def rotate_bruteForce(nums, k) -> None:\n",
    "        \"\"\"\n",
    "        Rotate the array to the right by k steps, where k is non-negative\n",
    "        args:\n",
    "        nums (list): input list\n",
    "        k (int): the shifitng parameter\n",
    "        returns:\n",
    "        None\n",
    "        \"\"\"\n",
    "        # the constraints imposed for K\n",
    "        len_list = len(nums)\n",
    "        if k == 0 or k == len_list or k < 0 or k > 100000:\n",
    "            return None\n",
    "        # if k is to big, modulo to bring it to the right range\n",
    "        if len_list < k < 100000 :\n",
    "            k = k % len_list\n",
    "\n",
    "        for k_n in range(1, k + 1):\n",
    "            last_item = nums[-1]     # in every shift the last item becomes first\n",
    "            for i_n in range(0, len_list):\n",
    "                nums[i_n], last_item = last_item, nums[i_n]\n",
    "\n"
   ]
  },
  {
   "cell_type": "code",
   "execution_count": 37,
   "metadata": {
    "colab": {
     "base_uri": "https://localhost:8080/"
    },
    "executionInfo": {
     "elapsed": 744,
     "status": "ok",
     "timestamp": 1611700455673,
     "user": {
      "displayName": "Nina Siaminou",
      "photoUrl": "https://lh3.googleusercontent.com/a-/AOh14Gj7x8Gocehh_YCh2USb3VfUTKegt1rrSdAq5gcriQ=s64",
      "userId": "15637592335354585899"
     },
     "user_tz": -120
    },
    "id": "D1ieO1EG9dxE",
    "outputId": "bc992a2d-68f6-4be0-95d6-d9a656844c9c"
   },
   "outputs": [
    {
     "name": "stdout",
     "output_type": "stream",
     "text": [
      "[5, 6, 7, 1, 2, 3, 4]\n",
      "[99, -1, -100, 3]\n",
      "[3, 99, -1, -100]\n",
      "[5, 6, 7, 1, 2, 3, 4]\n",
      "[99, -1, -100, 3]\n",
      "[3, 99, -1, -100]\n",
      "[5, 6, 7, 1, 2, 3, 4]\n",
      "[99, -1, -100, 3]\n",
      "[3, 99, -1, -100]\n"
     ]
    }
   ],
   "source": [
    "nums = [1, 2, 3, 4, 5, 6, 7]\n",
    "Solution_rotate.rotate(nums, 3)\n",
    "print(nums)\n",
    "\n",
    "nums = [-1,-100,3,99]\n",
    "Solution_rotate.rotate(nums, 1)\n",
    "print(nums)\n",
    "\n",
    "nums = [-1,-100,3,99]\n",
    "Solution_rotate.rotate(nums, 2)\n",
    "print(nums)\n",
    "\n",
    "nums = [1, 2, 3, 4, 5, 6, 7]\n",
    "Solution_rotate.rotate_2(nums, 3)\n",
    "print(nums)\n",
    "\n",
    "nums = [-1,-100,3,99]\n",
    "Solution_rotate.rotate_2(nums, 1)\n",
    "print(nums)\n",
    "\n",
    "nums = [-1,-100,3,99]\n",
    "Solution_rotate.rotate_2(nums, 2)\n",
    "print(nums)\n",
    "\n",
    "nums = [1, 2, 3, 4, 5, 6, 7]\n",
    "Solution_rotate.rotate_bruteForce(nums, 3)\n",
    "print(nums)\n",
    "\n",
    "nums = [-1,-100,3,99]\n",
    "Solution_rotate.rotate_bruteForce(nums, 1)\n",
    "print(nums)\n",
    "\n",
    "nums = [-1,-100,3,99]\n",
    "Solution_rotate.rotate_bruteForce(nums, 2)\n",
    "print(nums)"
   ]
  }
 ],
 "metadata": {
  "colab": {
   "authorship_tag": "ABX9TyMZD6R3v78FJLjrjM+NtAC4",
   "collapsed_sections": [],
   "name": "arrays.ipynb",
   "provenance": []
  },
  "kernelspec": {
   "display_name": "Python 3",
   "language": "python",
   "name": "python3"
  },
  "language_info": {
   "codemirror_mode": {
    "name": "ipython",
    "version": 3
   },
   "file_extension": ".py",
   "mimetype": "text/x-python",
   "name": "python",
   "nbconvert_exporter": "python",
   "pygments_lexer": "ipython3",
   "version": "3.8.5"
  }
 },
 "nbformat": 4,
 "nbformat_minor": 1
}
